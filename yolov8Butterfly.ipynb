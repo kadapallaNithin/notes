{
  "nbformat": 4,
  "nbformat_minor": 0,
  "metadata": {
    "colab": {
      "provenance": [],
      "gpuType": "T4",
      "authorship_tag": "ABX9TyMo8SgomF5b09KSBxhfXvl4",
      "include_colab_link": true
    },
    "kernelspec": {
      "name": "python3",
      "display_name": "Python 3"
    },
    "language_info": {
      "name": "python"
    },
    "accelerator": "GPU"
  },
  "cells": [
    {
      "cell_type": "markdown",
      "metadata": {
        "id": "view-in-github",
        "colab_type": "text"
      },
      "source": [
        "<a href=\"https://colab.research.google.com/github/kadapallaNithin/notes/blob/main/yolov8Butterfly.ipynb\" target=\"_parent\"><img src=\"https://colab.research.google.com/assets/colab-badge.svg\" alt=\"Open In Colab\"/></a>"
      ]
    },
    {
      "cell_type": "markdown",
      "source": [
        "# Dataset"
      ],
      "metadata": {
        "id": "xsTP8ZNx_NJd"
      }
    },
    {
      "cell_type": "code",
      "source": [
        "!pip install labelme2yolo"
      ],
      "metadata": {
        "id": "gaYIZd6n_U-5"
      },
      "execution_count": null,
      "outputs": []
    },
    {
      "cell_type": "code",
      "execution_count": null,
      "metadata": {
        "id": "WmwrjMyE4YG7"
      },
      "outputs": [],
      "source": [
        "!wget https://github.com/ayoolaolafenwa/PixelLib/releases/download/1.0.0/Nature.zip"
      ]
    },
    {
      "cell_type": "code",
      "source": [
        "!unzip Nature.zip\n",
        "!rm Nature/train/s*\n",
        "!rm Nature/test/s*\n",
        "!rm Nature.zip"
      ],
      "metadata": {
        "id": "35Aw2sMK_xOi"
      },
      "execution_count": null,
      "outputs": []
    },
    {
      "cell_type": "code",
      "source": [
        "!labelme2yolo --json_dir Nature/train\n",
        "!mv Nature/train/YOLODataset ./train\n",
        "!mv YOLODataset/ train\n",
        "!mv train/images/train/* train/images\n",
        "!mv train/images/val/* train/images\n",
        "!rmdir train/images/train\n",
        "!rmdir train/images/test\n",
        "!rmdir train/images/val\n",
        "\n",
        "!mv train/labels/train/* train/labels\n",
        "!mv train/labels/val/* train/labels\n",
        "!rmdir train/labels/train\n",
        "!rmdir train/labels/test\n",
        "!rmdir train/labels/val"
      ],
      "metadata": {
        "id": "e9cHI9d5A5oi"
      },
      "execution_count": null,
      "outputs": []
    },
    {
      "cell_type": "code",
      "source": [
        "!labelme2yolo --json_dir Nature/test\n",
        "!mv Nature/test/YOLODataset ./test\n",
        "!mv YOLODataset/ test\n",
        "!mv test/images/train/* test/images\n",
        "!mv test/images/val/* test/images\n",
        "!rmdir test/images/train\n",
        "!rmdir test/images/test\n",
        "!rmdir test/images/val\n",
        "\n",
        "!mv test/labels/train/* test/labels\n",
        "!mv test/labels/val/* test/labels\n",
        "!rmdir test/labels/train\n",
        "!rmdir test/labels/test\n",
        "!rmdir test/labels/val"
      ],
      "metadata": {
        "id": "m7o0PhxvBGQt"
      },
      "execution_count": null,
      "outputs": []
    },
    {
      "cell_type": "code",
      "source": [
        "!mv train/dataset.yaml ."
      ],
      "metadata": {
        "id": "0wCKhNpZCaq9"
      },
      "execution_count": 6,
      "outputs": []
    },
    {
      "cell_type": "code",
      "source": [
        "with open('dataset.yaml','w') as f:\n",
        "  f.write(\"\"\"train: /content/train/\n",
        "val: /content/test/\n",
        "  \n",
        "nc: 1\n",
        "names: ['butterfly']\"\"\")"
      ],
      "metadata": {
        "id": "WXCHo4jSIpfi"
      },
      "execution_count": 8,
      "outputs": []
    },
    {
      "cell_type": "markdown",
      "source": [
        "# Train"
      ],
      "metadata": {
        "id": "_cBZ6sumIk5h"
      }
    },
    {
      "cell_type": "code",
      "source": [
        "!pip install ultralytics"
      ],
      "metadata": {
        "id": "2q8MSoeGIVrA"
      },
      "execution_count": null,
      "outputs": []
    },
    {
      "cell_type": "code",
      "source": [
        "import torch"
      ],
      "metadata": {
        "id": "Jena5wa5KIT2"
      },
      "execution_count": 10,
      "outputs": []
    },
    {
      "cell_type": "code",
      "source": [
        "torch.__version__"
      ],
      "metadata": {
        "colab": {
          "base_uri": "https://localhost:8080/",
          "height": 36
        },
        "id": "zpu-kHMTJq_c",
        "outputId": "125a0916-bfc3-405f-85cc-27a0b407f628"
      },
      "execution_count": 11,
      "outputs": [
        {
          "output_type": "execute_result",
          "data": {
            "text/plain": [
              "'2.0.1+cu118'"
            ],
            "application/vnd.google.colaboratory.intrinsic+json": {
              "type": "string"
            }
          },
          "metadata": {},
          "execution_count": 11
        }
      ]
    },
    {
      "cell_type": "code",
      "source": [
        "torch.cuda.is_available() # should be True"
      ],
      "metadata": {
        "colab": {
          "base_uri": "https://localhost:8080/"
        },
        "id": "JBWAtcMeJ-9O",
        "outputId": "de4cee06-5def-4c35-eef4-4e72243b2e84"
      },
      "execution_count": 12,
      "outputs": [
        {
          "output_type": "execute_result",
          "data": {
            "text/plain": [
              "True"
            ]
          },
          "metadata": {},
          "execution_count": 12
        }
      ]
    },
    {
      "cell_type": "code",
      "source": [
        "!yolo task=segment mode=train epochs=100 data=dataset.yaml model=yolov8m-seg.pt imgsz=640 batch=8"
      ],
      "metadata": {
        "id": "uWoO82toKQA9"
      },
      "execution_count": null,
      "outputs": []
    },
    {
      "cell_type": "markdown",
      "source": [
        "# Inference"
      ],
      "metadata": {
        "id": "jn6EntY5b_1D"
      }
    },
    {
      "cell_type": "code",
      "source": [
        "from ultralytics import YOLO\n",
        "model = YOLO(\"/content/runs/segment/train/weights/best.pt\")\n",
        "model.predict(\"/content/Nature/test/butterfly (1).jpg\", show=True, save=True, hide_labels=False, hide_conf=False, conf=0.5, save_txt=False, save_crop=False, line_thickness=2)\n",
        "print()"
      ],
      "metadata": {
        "id": "czwYvxADcBLC"
      },
      "execution_count": null,
      "outputs": []
    },
    {
      "cell_type": "markdown",
      "source": [
        "# Export/Save to drive"
      ],
      "metadata": {
        "id": "AkeXCkndgX2n"
      }
    },
    {
      "cell_type": "code",
      "source": [
        "model.export(format='onnx') # onnx tflite"
      ],
      "metadata": {
        "id": "oEo8Rx0UfW-4"
      },
      "execution_count": null,
      "outputs": []
    },
    {
      "cell_type": "code",
      "source": [
        "from google.colab import drive\n",
        "drive.mount('/content/gdrive')"
      ],
      "metadata": {
        "colab": {
          "base_uri": "https://localhost:8080/"
        },
        "id": "8x-QssKvhHi0",
        "outputId": "4a286f00-1cc9-4c4b-f0f3-f8d4e81bdec0"
      },
      "execution_count": 17,
      "outputs": [
        {
          "output_type": "stream",
          "name": "stdout",
          "text": [
            "Mounted at /content/gdrive\n"
          ]
        }
      ]
    },
    {
      "cell_type": "code",
      "source": [
        "!cp runs/segment/train/weights/best.pt gdrive/MyDrive/models/yolo/yolov8m-seg.pt\n",
        "!cp runs/segment/train/weights/best.onnx gdrive/MyDrive/models/yolo/yolov8m-seg.onnx"
      ],
      "metadata": {
        "id": "F04b9d-qhV_J"
      },
      "execution_count": 20,
      "outputs": []
    },
    {
      "cell_type": "code",
      "source": [],
      "metadata": {
        "id": "hsfKr8AQmNvm"
      },
      "execution_count": null,
      "outputs": []
    }
  ]
}